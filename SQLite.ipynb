{
 "cells": [
  {
   "cell_type": "code",
   "execution_count": 1,
   "metadata": {},
   "outputs": [
    {
     "name": "stdout",
     "output_type": "stream",
     "text": [
      "Requirement already satisfied: ipython-sql in c:\\users\\shree\\anaconda3\\lib\\site-packages (0.3.9)\n",
      "Requirement already satisfied: ipython>=1.0 in c:\\users\\shree\\anaconda3\\lib\\site-packages (from ipython-sql) (7.2.0)\n",
      "Requirement already satisfied: prettytable in c:\\users\\shree\\anaconda3\\lib\\site-packages (from ipython-sql) (0.7.2)\n",
      "Requirement already satisfied: ipython-genutils>=0.1.0 in c:\\users\\shree\\anaconda3\\lib\\site-packages (from ipython-sql) (0.2.0)\n",
      "Requirement already satisfied: sqlalchemy>=0.6.7 in c:\\users\\shree\\anaconda3\\lib\\site-packages (from ipython-sql) (1.2.15)\n",
      "Requirement already satisfied: six in c:\\users\\shree\\anaconda3\\lib\\site-packages (from ipython-sql) (1.12.0)\n",
      "Requirement already satisfied: sqlparse in c:\\users\\shree\\anaconda3\\lib\\site-packages (from ipython-sql) (0.3.1)\n",
      "Requirement already satisfied: colorama; sys_platform == \"win32\" in c:\\users\\shree\\anaconda3\\lib\\site-packages (from ipython>=1.0->ipython-sql) (0.4.1)\n",
      "Requirement already satisfied: pygments in c:\\users\\shree\\anaconda3\\lib\\site-packages (from ipython>=1.0->ipython-sql) (2.3.1)\n",
      "Requirement already satisfied: pickleshare in c:\\users\\shree\\anaconda3\\lib\\site-packages (from ipython>=1.0->ipython-sql) (0.7.5)\n",
      "Requirement already satisfied: backcall in c:\\users\\shree\\anaconda3\\lib\\site-packages (from ipython>=1.0->ipython-sql) (0.1.0)\n",
      "Requirement already satisfied: decorator in c:\\users\\shree\\anaconda3\\lib\\site-packages (from ipython>=1.0->ipython-sql) (4.3.0)\n",
      "Requirement already satisfied: prompt-toolkit<2.1.0,>=2.0.0 in c:\\users\\shree\\anaconda3\\lib\\site-packages (from ipython>=1.0->ipython-sql) (2.0.7)\n",
      "Requirement already satisfied: setuptools>=18.5 in c:\\users\\shree\\anaconda3\\lib\\site-packages (from ipython>=1.0->ipython-sql) (40.6.3)\n",
      "Requirement already satisfied: traitlets>=4.2 in c:\\users\\shree\\anaconda3\\lib\\site-packages (from ipython>=1.0->ipython-sql) (4.3.2)\n",
      "Requirement already satisfied: jedi>=0.10 in c:\\users\\shree\\anaconda3\\lib\\site-packages (from ipython>=1.0->ipython-sql) (0.13.2)\n",
      "Requirement already satisfied: wcwidth in c:\\users\\shree\\anaconda3\\lib\\site-packages (from prompt-toolkit<2.1.0,>=2.0.0->ipython>=1.0->ipython-sql) (0.1.7)\n",
      "Requirement already satisfied: parso>=0.3.0 in c:\\users\\shree\\anaconda3\\lib\\site-packages (from jedi>=0.10->ipython>=1.0->ipython-sql) (0.3.1)\n"
     ]
    }
   ],
   "source": [
    "!pip install ipython-sql"
   ]
  },
  {
   "cell_type": "code",
   "execution_count": 2,
   "metadata": {},
   "outputs": [],
   "source": [
    "import sqlite3  #importing module"
   ]
  },
  {
   "cell_type": "code",
   "execution_count": 3,
   "metadata": {},
   "outputs": [],
   "source": [
    "db=sqlite3.connect('fst12.db')# connecting to database and name of database is given\n",
    "#if database is not present it will create new one\n",
    "crsr=db.cursor()# cursor used to traverse and fetch the record"
   ]
  },
  {
   "cell_type": "code",
   "execution_count": 4,
   "metadata": {},
   "outputs": [
    {
     "data": {
      "text/plain": [
       "<sqlite3.Cursor at 0x4f74c70>"
      ]
     },
     "execution_count": 4,
     "metadata": {},
     "output_type": "execute_result"
    }
   ],
   "source": [
    "# create table\n",
    "#create object with sql command in it\n",
    "sql_command=\"\"\"CREATE TABLE emp12(staff_number INTEGER PRIMARY KEY,        \n",
    "fname VARCHAR(20),\n",
    "lname VARCHAR(30),\n",
    "gender VARCHAR (1),\n",
    "joining DATE);   \"\"\"\n",
    "crsr.execute(sql_command)       #execute the statement"
   ]
  },
  {
   "cell_type": "code",
   "execution_count": 5,
   "metadata": {},
   "outputs": [
    {
     "data": {
      "text/plain": [
       "<sqlite3.Cursor at 0x4f74c70>"
      ]
     },
     "execution_count": 5,
     "metadata": {},
     "output_type": "execute_result"
    }
   ],
   "source": [
    "# Insert data into table\n",
    "sql_command=\"\"\"INSERT INTO emp12 VALUES(1,'Bill','Gates','M','2014-03-28')\"\"\"\n",
    "crsr.execute(sql_command)   #execute the statement"
   ]
  },
  {
   "cell_type": "code",
   "execution_count": 6,
   "metadata": {},
   "outputs": [
    {
     "data": {
      "text/plain": [
       "<sqlite3.Cursor at 0x4f74c70>"
      ]
     },
     "execution_count": 6,
     "metadata": {},
     "output_type": "execute_result"
    }
   ],
   "source": [
    "# Insert another data into table\n",
    "sql_command=\"\"\"INSERT INTO emp12 VALUES(23,'Rishabh','Bansal','M','1980-10-28')\"\"\"\n",
    "crsr.execute(sql_command)"
   ]
  },
  {
   "cell_type": "code",
   "execution_count": 7,
   "metadata": {},
   "outputs": [],
   "source": [
    "# to save the changes in the file and never skip this\n",
    "# if we skip this, nothing will be saved in database\n",
    "db.commit()     "
   ]
  },
  {
   "cell_type": "code",
   "execution_count": 8,
   "metadata": {},
   "outputs": [],
   "source": [
    "#close the connection\n",
    "db.close()"
   ]
  },
  {
   "cell_type": "code",
   "execution_count": 9,
   "metadata": {},
   "outputs": [
    {
     "name": "stdout",
     "output_type": "stream",
     "text": [
      "[(1, 'Bill', 'Gates', 'M', '2014-03-28'), (23, 'Rishabh', 'Bansal', 'M', '1980-10-28')]\n"
     ]
    }
   ],
   "source": [
    "db=sqlite3.connect('fst12.db')#As we had closed the database, we need to connect it with cursor\n",
    "crsr=db.cursor()\n",
    "crsr.execute(\"\"\"SELECT * FROM emp12\"\"\")\n",
    "b=crsr.fetchall()# fetchall is used to have a look on desktop\n",
    "print(b)"
   ]
  }
 ],
 "metadata": {
  "kernelspec": {
   "display_name": "Python 3",
   "language": "python",
   "name": "python3"
  },
  "language_info": {
   "codemirror_mode": {
    "name": "ipython",
    "version": 3
   },
   "file_extension": ".py",
   "mimetype": "text/x-python",
   "name": "python",
   "nbconvert_exporter": "python",
   "pygments_lexer": "ipython3",
   "version": "3.7.1"
  }
 },
 "nbformat": 4,
 "nbformat_minor": 2
}
